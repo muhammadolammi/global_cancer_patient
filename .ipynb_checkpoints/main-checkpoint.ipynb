{
 "cells": [
  {
   "cell_type": "code",
   "execution_count": 2,
   "id": "0fbdd575-d999-41e3-b0dc-45a82f1fefbc",
   "metadata": {},
   "outputs": [],
   "source": [
    "import kagglehub\n",
    "import pandas as pd\n",
    "import numpy as np\n",
    "import matplotlib.pyplot as plt\n",
    "import seaborn as sns\n",
    "sns.set()\n",
    "\n"
   ]
  },
  {
   "cell_type": "code",
   "execution_count": 28,
   "id": "69bdd631-a458-4e12-9eb3-a12eed48dd7b",
   "metadata": {},
   "outputs": [],
   "source": [
    "# Download latest version\n",
    "\n",
    "path = kagglehub.dataset_download(\n",
    "    handle=\"zahidmughal2343/global-cancer-patients-2015-2024\"\n",
    ")\n",
    "csv_path = r\"{path}\\global_cancer_patients_2015_2024.csv\".format(path=path)                                    \n",
    "raw_data= pd.read_csv(csv_path)\n"
   ]
  },
  {
   "cell_type": "code",
   "execution_count": 56,
   "id": "15dabb12-c18c-4e92-9809-28cf4958fd42",
   "metadata": {},
   "outputs": [],
   "source": [
    "df = raw_data.copy()\n"
   ]
  },
  {
   "cell_type": "markdown",
   "id": "45db1b66-52e6-48ba-92a7-69ccee822db3",
   "metadata": {},
   "source": [
    "## DESCRIPTIVE STATISTICS"
   ]
  },
  {
   "cell_type": "code",
   "execution_count": null,
   "id": "b355df9a-ea58-470a-a6b0-f49384392118",
   "metadata": {},
   "outputs": [],
   "source": [
    "df.head()"
   ]
  },
  {
   "cell_type": "code",
   "execution_count": 32,
   "id": "df2b8d9a-16a4-473d-a0af-7d7056a02df6",
   "metadata": {},
   "outputs": [
    {
     "data": {
      "text/html": [
       "<div>\n",
       "<style scoped>\n",
       "    .dataframe tbody tr th:only-of-type {\n",
       "        vertical-align: middle;\n",
       "    }\n",
       "\n",
       "    .dataframe tbody tr th {\n",
       "        vertical-align: top;\n",
       "    }\n",
       "\n",
       "    .dataframe thead th {\n",
       "        text-align: right;\n",
       "    }\n",
       "</style>\n",
       "<table border=\"1\" class=\"dataframe\">\n",
       "  <thead>\n",
       "    <tr style=\"text-align: right;\">\n",
       "      <th></th>\n",
       "      <th>Patient_ID</th>\n",
       "      <th>Age</th>\n",
       "      <th>Gender</th>\n",
       "      <th>Country_Region</th>\n",
       "      <th>Year</th>\n",
       "      <th>Genetic_Risk</th>\n",
       "      <th>Air_Pollution</th>\n",
       "      <th>Alcohol_Use</th>\n",
       "      <th>Smoking</th>\n",
       "      <th>Obesity_Level</th>\n",
       "      <th>Cancer_Type</th>\n",
       "      <th>Cancer_Stage</th>\n",
       "      <th>Treatment_Cost_USD</th>\n",
       "      <th>Survival_Years</th>\n",
       "      <th>Target_Severity_Score</th>\n",
       "    </tr>\n",
       "  </thead>\n",
       "  <tbody>\n",
       "    <tr>\n",
       "      <th>49995</th>\n",
       "      <td>PT0049995</td>\n",
       "      <td>80</td>\n",
       "      <td>Male</td>\n",
       "      <td>Pakistan</td>\n",
       "      <td>2023</td>\n",
       "      <td>2.3</td>\n",
       "      <td>7.5</td>\n",
       "      <td>2.8</td>\n",
       "      <td>3.8</td>\n",
       "      <td>2.9</td>\n",
       "      <td>Leukemia</td>\n",
       "      <td>Stage 0</td>\n",
       "      <td>71463.70</td>\n",
       "      <td>1.0</td>\n",
       "      <td>3.63</td>\n",
       "    </tr>\n",
       "    <tr>\n",
       "      <th>49996</th>\n",
       "      <td>PT0049996</td>\n",
       "      <td>40</td>\n",
       "      <td>Female</td>\n",
       "      <td>USA</td>\n",
       "      <td>2018</td>\n",
       "      <td>6.4</td>\n",
       "      <td>3.5</td>\n",
       "      <td>2.9</td>\n",
       "      <td>9.0</td>\n",
       "      <td>9.8</td>\n",
       "      <td>Colon</td>\n",
       "      <td>Stage I</td>\n",
       "      <td>49619.66</td>\n",
       "      <td>0.4</td>\n",
       "      <td>6.03</td>\n",
       "    </tr>\n",
       "    <tr>\n",
       "      <th>49997</th>\n",
       "      <td>PT0049997</td>\n",
       "      <td>74</td>\n",
       "      <td>Male</td>\n",
       "      <td>Pakistan</td>\n",
       "      <td>2015</td>\n",
       "      <td>6.2</td>\n",
       "      <td>1.6</td>\n",
       "      <td>8.7</td>\n",
       "      <td>4.7</td>\n",
       "      <td>4.0</td>\n",
       "      <td>Breast</td>\n",
       "      <td>Stage 0</td>\n",
       "      <td>5338.25</td>\n",
       "      <td>2.7</td>\n",
       "      <td>6.02</td>\n",
       "    </tr>\n",
       "    <tr>\n",
       "      <th>49998</th>\n",
       "      <td>PT0049998</td>\n",
       "      <td>21</td>\n",
       "      <td>Male</td>\n",
       "      <td>Brazil</td>\n",
       "      <td>2018</td>\n",
       "      <td>4.0</td>\n",
       "      <td>6.5</td>\n",
       "      <td>7.6</td>\n",
       "      <td>8.6</td>\n",
       "      <td>8.1</td>\n",
       "      <td>Liver</td>\n",
       "      <td>Stage IV</td>\n",
       "      <td>45100.47</td>\n",
       "      <td>7.5</td>\n",
       "      <td>6.54</td>\n",
       "    </tr>\n",
       "    <tr>\n",
       "      <th>49999</th>\n",
       "      <td>PT0049999</td>\n",
       "      <td>22</td>\n",
       "      <td>Male</td>\n",
       "      <td>Pakistan</td>\n",
       "      <td>2023</td>\n",
       "      <td>5.1</td>\n",
       "      <td>9.8</td>\n",
       "      <td>3.2</td>\n",
       "      <td>0.0</td>\n",
       "      <td>0.7</td>\n",
       "      <td>Liver</td>\n",
       "      <td>Stage 0</td>\n",
       "      <td>64023.82</td>\n",
       "      <td>7.4</td>\n",
       "      <td>3.76</td>\n",
       "    </tr>\n",
       "  </tbody>\n",
       "</table>\n",
       "</div>"
      ],
      "text/plain": [
       "      Patient_ID  Age  Gender Country_Region  Year  Genetic_Risk  \\\n",
       "49995  PT0049995   80    Male       Pakistan  2023           2.3   \n",
       "49996  PT0049996   40  Female            USA  2018           6.4   \n",
       "49997  PT0049997   74    Male       Pakistan  2015           6.2   \n",
       "49998  PT0049998   21    Male         Brazil  2018           4.0   \n",
       "49999  PT0049999   22    Male       Pakistan  2023           5.1   \n",
       "\n",
       "       Air_Pollution  Alcohol_Use  Smoking  Obesity_Level Cancer_Type  \\\n",
       "49995            7.5          2.8      3.8            2.9    Leukemia   \n",
       "49996            3.5          2.9      9.0            9.8       Colon   \n",
       "49997            1.6          8.7      4.7            4.0      Breast   \n",
       "49998            6.5          7.6      8.6            8.1       Liver   \n",
       "49999            9.8          3.2      0.0            0.7       Liver   \n",
       "\n",
       "      Cancer_Stage  Treatment_Cost_USD  Survival_Years  Target_Severity_Score  \n",
       "49995      Stage 0            71463.70             1.0                   3.63  \n",
       "49996      Stage I            49619.66             0.4                   6.03  \n",
       "49997      Stage 0             5338.25             2.7                   6.02  \n",
       "49998     Stage IV            45100.47             7.5                   6.54  \n",
       "49999      Stage 0            64023.82             7.4                   3.76  "
      ]
     },
     "execution_count": 32,
     "metadata": {},
     "output_type": "execute_result"
    }
   ],
   "source": [
    "df.tail()"
   ]
  },
  {
   "cell_type": "code",
   "execution_count": 36,
   "id": "db0c1c85-8d88-487b-8238-c68ac7b166dc",
   "metadata": {},
   "outputs": [
    {
     "data": {
      "text/plain": [
       "Patient_ID               0\n",
       "Age                      0\n",
       "Gender                   0\n",
       "Country_Region           0\n",
       "Year                     0\n",
       "Genetic_Risk             0\n",
       "Air_Pollution            0\n",
       "Alcohol_Use              0\n",
       "Smoking                  0\n",
       "Obesity_Level            0\n",
       "Cancer_Type              0\n",
       "Cancer_Stage             0\n",
       "Treatment_Cost_USD       0\n",
       "Survival_Years           0\n",
       "Target_Severity_Score    0\n",
       "dtype: int64"
      ]
     },
     "execution_count": 36,
     "metadata": {},
     "output_type": "execute_result"
    }
   ],
   "source": [
    "df.isnull().sum()"
   ]
  },
  {
   "cell_type": "code",
   "execution_count": 42,
   "id": "d4749148-30a3-4a7a-b88f-b7d78dae7a03",
   "metadata": {},
   "outputs": [
    {
     "name": "stdout",
     "output_type": "stream",
     "text": [
      "<class 'pandas.core.frame.DataFrame'>\n",
      "RangeIndex: 50000 entries, 0 to 49999\n",
      "Data columns (total 15 columns):\n",
      " #   Column                 Non-Null Count  Dtype  \n",
      "---  ------                 --------------  -----  \n",
      " 0   Patient_ID             50000 non-null  object \n",
      " 1   Age                    50000 non-null  int64  \n",
      " 2   Gender                 50000 non-null  object \n",
      " 3   Country_Region         50000 non-null  object \n",
      " 4   Year                   50000 non-null  int64  \n",
      " 5   Genetic_Risk           50000 non-null  float64\n",
      " 6   Air_Pollution          50000 non-null  float64\n",
      " 7   Alcohol_Use            50000 non-null  float64\n",
      " 8   Smoking                50000 non-null  float64\n",
      " 9   Obesity_Level          50000 non-null  float64\n",
      " 10  Cancer_Type            50000 non-null  object \n",
      " 11  Cancer_Stage           50000 non-null  object \n",
      " 12  Treatment_Cost_USD     50000 non-null  float64\n",
      " 13  Survival_Years         50000 non-null  float64\n",
      " 14  Target_Severity_Score  50000 non-null  float64\n",
      "dtypes: float64(8), int64(2), object(5)\n",
      "memory usage: 5.7+ MB\n"
     ]
    }
   ],
   "source": [
    "df.info()"
   ]
  },
  {
   "cell_type": "code",
   "execution_count": 46,
   "id": "1da1ff9d-4d73-49be-8014-28fda7f37000",
   "metadata": {},
   "outputs": [
    {
     "data": {
      "text/plain": [
       "(50000, 15)"
      ]
     },
     "execution_count": 46,
     "metadata": {},
     "output_type": "execute_result"
    }
   ],
   "source": [
    "df.shape"
   ]
  },
  {
   "cell_type": "code",
   "execution_count": 50,
   "id": "a5ca015a-e716-44c1-ad78-3ea2ec03d4fc",
   "metadata": {},
   "outputs": [
    {
     "data": {
      "text/plain": [
       "Patient_ID                object\n",
       "Age                        int64\n",
       "Gender                    object\n",
       "Country_Region            object\n",
       "Year                       int64\n",
       "Genetic_Risk             float64\n",
       "Air_Pollution            float64\n",
       "Alcohol_Use              float64\n",
       "Smoking                  float64\n",
       "Obesity_Level            float64\n",
       "Cancer_Type               object\n",
       "Cancer_Stage              object\n",
       "Treatment_Cost_USD       float64\n",
       "Survival_Years           float64\n",
       "Target_Severity_Score    float64\n",
       "dtype: object"
      ]
     },
     "execution_count": 50,
     "metadata": {},
     "output_type": "execute_result"
    }
   ],
   "source": [
    "df.dtypes"
   ]
  },
  {
   "cell_type": "code",
   "execution_count": 52,
   "id": "97df9976-493c-4616-aade-2f22bf9bb2e3",
   "metadata": {},
   "outputs": [
    {
     "data": {
      "text/plain": [
       "Index(['Patient_ID', 'Age', 'Gender', 'Country_Region', 'Year', 'Genetic_Risk',\n",
       "       'Air_Pollution', 'Alcohol_Use', 'Smoking', 'Obesity_Level',\n",
       "       'Cancer_Type', 'Cancer_Stage', 'Treatment_Cost_USD', 'Survival_Years',\n",
       "       'Target_Severity_Score'],\n",
       "      dtype='object')"
      ]
     },
     "execution_count": 52,
     "metadata": {},
     "output_type": "execute_result"
    }
   ],
   "source": [
    "df.columns"
   ]
  },
  {
   "cell_type": "code",
   "execution_count": 54,
   "id": "7510a43f-a6e1-4751-9c41-ea7a66b6c230",
   "metadata": {},
   "outputs": [
    {
     "data": {
      "text/html": [
       "<div>\n",
       "<style scoped>\n",
       "    .dataframe tbody tr th:only-of-type {\n",
       "        vertical-align: middle;\n",
       "    }\n",
       "\n",
       "    .dataframe tbody tr th {\n",
       "        vertical-align: top;\n",
       "    }\n",
       "\n",
       "    .dataframe thead th {\n",
       "        text-align: right;\n",
       "    }\n",
       "</style>\n",
       "<table border=\"1\" class=\"dataframe\">\n",
       "  <thead>\n",
       "    <tr style=\"text-align: right;\">\n",
       "      <th></th>\n",
       "      <th>Age</th>\n",
       "      <th>Year</th>\n",
       "      <th>Genetic_Risk</th>\n",
       "      <th>Air_Pollution</th>\n",
       "      <th>Alcohol_Use</th>\n",
       "      <th>Smoking</th>\n",
       "      <th>Obesity_Level</th>\n",
       "      <th>Treatment_Cost_USD</th>\n",
       "      <th>Survival_Years</th>\n",
       "      <th>Target_Severity_Score</th>\n",
       "    </tr>\n",
       "  </thead>\n",
       "  <tbody>\n",
       "    <tr>\n",
       "      <th>count</th>\n",
       "      <td>50000.000000</td>\n",
       "      <td>50000.000000</td>\n",
       "      <td>50000.000000</td>\n",
       "      <td>50000.000000</td>\n",
       "      <td>50000.000000</td>\n",
       "      <td>50000.000000</td>\n",
       "      <td>50000.000000</td>\n",
       "      <td>50000.000000</td>\n",
       "      <td>50000.000000</td>\n",
       "      <td>50000.000000</td>\n",
       "    </tr>\n",
       "    <tr>\n",
       "      <th>mean</th>\n",
       "      <td>54.421540</td>\n",
       "      <td>2019.480520</td>\n",
       "      <td>5.001698</td>\n",
       "      <td>5.010126</td>\n",
       "      <td>5.010880</td>\n",
       "      <td>4.989826</td>\n",
       "      <td>4.991176</td>\n",
       "      <td>52467.298239</td>\n",
       "      <td>5.006462</td>\n",
       "      <td>4.951207</td>\n",
       "    </tr>\n",
       "    <tr>\n",
       "      <th>std</th>\n",
       "      <td>20.224451</td>\n",
       "      <td>2.871485</td>\n",
       "      <td>2.885773</td>\n",
       "      <td>2.888399</td>\n",
       "      <td>2.888769</td>\n",
       "      <td>2.881579</td>\n",
       "      <td>2.894504</td>\n",
       "      <td>27363.229379</td>\n",
       "      <td>2.883335</td>\n",
       "      <td>1.199677</td>\n",
       "    </tr>\n",
       "    <tr>\n",
       "      <th>min</th>\n",
       "      <td>20.000000</td>\n",
       "      <td>2015.000000</td>\n",
       "      <td>0.000000</td>\n",
       "      <td>0.000000</td>\n",
       "      <td>0.000000</td>\n",
       "      <td>0.000000</td>\n",
       "      <td>0.000000</td>\n",
       "      <td>5000.050000</td>\n",
       "      <td>0.000000</td>\n",
       "      <td>0.900000</td>\n",
       "    </tr>\n",
       "    <tr>\n",
       "      <th>25%</th>\n",
       "      <td>37.000000</td>\n",
       "      <td>2017.000000</td>\n",
       "      <td>2.500000</td>\n",
       "      <td>2.500000</td>\n",
       "      <td>2.500000</td>\n",
       "      <td>2.500000</td>\n",
       "      <td>2.500000</td>\n",
       "      <td>28686.225000</td>\n",
       "      <td>2.500000</td>\n",
       "      <td>4.120000</td>\n",
       "    </tr>\n",
       "    <tr>\n",
       "      <th>50%</th>\n",
       "      <td>54.000000</td>\n",
       "      <td>2019.000000</td>\n",
       "      <td>5.000000</td>\n",
       "      <td>5.000000</td>\n",
       "      <td>5.000000</td>\n",
       "      <td>5.000000</td>\n",
       "      <td>5.000000</td>\n",
       "      <td>52474.310000</td>\n",
       "      <td>5.000000</td>\n",
       "      <td>4.950000</td>\n",
       "    </tr>\n",
       "    <tr>\n",
       "      <th>75%</th>\n",
       "      <td>72.000000</td>\n",
       "      <td>2022.000000</td>\n",
       "      <td>7.500000</td>\n",
       "      <td>7.500000</td>\n",
       "      <td>7.500000</td>\n",
       "      <td>7.500000</td>\n",
       "      <td>7.500000</td>\n",
       "      <td>76232.720000</td>\n",
       "      <td>7.500000</td>\n",
       "      <td>5.780000</td>\n",
       "    </tr>\n",
       "    <tr>\n",
       "      <th>max</th>\n",
       "      <td>89.000000</td>\n",
       "      <td>2024.000000</td>\n",
       "      <td>10.000000</td>\n",
       "      <td>10.000000</td>\n",
       "      <td>10.000000</td>\n",
       "      <td>10.000000</td>\n",
       "      <td>10.000000</td>\n",
       "      <td>99999.840000</td>\n",
       "      <td>10.000000</td>\n",
       "      <td>9.160000</td>\n",
       "    </tr>\n",
       "  </tbody>\n",
       "</table>\n",
       "</div>"
      ],
      "text/plain": [
       "                Age          Year  Genetic_Risk  Air_Pollution   Alcohol_Use  \\\n",
       "count  50000.000000  50000.000000  50000.000000   50000.000000  50000.000000   \n",
       "mean      54.421540   2019.480520      5.001698       5.010126      5.010880   \n",
       "std       20.224451      2.871485      2.885773       2.888399      2.888769   \n",
       "min       20.000000   2015.000000      0.000000       0.000000      0.000000   \n",
       "25%       37.000000   2017.000000      2.500000       2.500000      2.500000   \n",
       "50%       54.000000   2019.000000      5.000000       5.000000      5.000000   \n",
       "75%       72.000000   2022.000000      7.500000       7.500000      7.500000   \n",
       "max       89.000000   2024.000000     10.000000      10.000000     10.000000   \n",
       "\n",
       "            Smoking  Obesity_Level  Treatment_Cost_USD  Survival_Years  \\\n",
       "count  50000.000000   50000.000000        50000.000000    50000.000000   \n",
       "mean       4.989826       4.991176        52467.298239        5.006462   \n",
       "std        2.881579       2.894504        27363.229379        2.883335   \n",
       "min        0.000000       0.000000         5000.050000        0.000000   \n",
       "25%        2.500000       2.500000        28686.225000        2.500000   \n",
       "50%        5.000000       5.000000        52474.310000        5.000000   \n",
       "75%        7.500000       7.500000        76232.720000        7.500000   \n",
       "max       10.000000      10.000000        99999.840000       10.000000   \n",
       "\n",
       "       Target_Severity_Score  \n",
       "count           50000.000000  \n",
       "mean                4.951207  \n",
       "std                 1.199677  \n",
       "min                 0.900000  \n",
       "25%                 4.120000  \n",
       "50%                 4.950000  \n",
       "75%                 5.780000  \n",
       "max                 9.160000  "
      ]
     },
     "execution_count": 54,
     "metadata": {},
     "output_type": "execute_result"
    }
   ],
   "source": [
    "df.describe()"
   ]
  },
  {
   "cell_type": "markdown",
   "id": "e18b41ea-5f9d-45cf-8a97-cb893c83b4cd",
   "metadata": {},
   "source": [
    "## Data visualizations"
   ]
  },
  {
   "cell_type": "raw",
   "id": "5503f94d-d84d-466d-981e-192ff03d21b8",
   "metadata": {},
   "source": [
    "## aims \n",
    "1. Create Age distribution (Histogram)\n",
    "2. Create Gender Distribution (Piechart)\n",
    "3. "
   ]
  },
  {
   "cell_type": "code",
   "execution_count": 76,
   "id": "5e4ffd29-f36b-4c11-8765-e1a61f882751",
   "metadata": {},
   "outputs": [
    {
     "data": {
      "image/png": "[encoded data removed]",
      "text/plain": [
       "<Figure size 900x400 with 1 Axes>"
      ]
     },
     "metadata": {},
     "output_type": "display_data"
    }
   ],
   "source": [
    "plt.figure(figsize=(9, 4))\n",
    "sns.histplot(df[\"Age\"], bins=30, color=\"skyblue\",kde=True)\n",
    "plt.title('Age Distribution of Cancer Patients')\n",
    "plt.xlabel('Age')\n",
    "plt.ylabel('Frequency')\n",
    "plt.show()\n"
   ]
  }
 ],
 "metadata": {
  "kernelspec": {
   "display_name": "Python [conda env:base] *",
   "language": "python",
   "name": "conda-base-py"
  },
  "language_info": {
   "codemirror_mode": {
    "name": "ipython",
    "version": 3
   },
   "file_extension": ".py",
   "mimetype": "text/x-python",
   "name": "python",
   "nbconvert_exporter": "python",
   "pygments_lexer": "ipython3",
   "version": "3.12.7"
  }
 },
 "nbformat": 4,
 "nbformat_minor": 5
}
